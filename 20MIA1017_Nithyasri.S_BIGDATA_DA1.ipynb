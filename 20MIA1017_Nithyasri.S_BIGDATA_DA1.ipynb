{
  "nbformat": 4,
  "nbformat_minor": 0,
  "metadata": {
    "colab": {
      "provenance": []
    },
    "kernelspec": {
      "name": "python3",
      "display_name": "Python 3"
    },
    "language_info": {
      "name": "python"
    }
  },
  "cells": [
    {
      "cell_type": "markdown",
      "source": [
        "# Name:Nithyasri\n",
        "# Reg No:20MIA1017\n",
        "# CANCER INSIGHTS: GLOBAL COMPARATIVE ANALYSIS\n",
        "# BIG DATA ANALYTICS - MGT1062\n",
        "# DIGITAL ASSIGNMENT-1"
      ],
      "metadata": {
        "id": "t7MBv2NNN591"
      }
    },
    {
      "cell_type": "code",
      "execution_count": 1,
      "metadata": {
        "id": "Ta7TduDz9APE"
      },
      "outputs": [],
      "source": [
        "# Pre-processing\n",
        "# Import the pandas module\n",
        "import pandas as pd"
      ]
    },
    {
      "cell_type": "code",
      "source": [
        "df_1=pd.read_csv(\"/content/age_editied.csv\")\n",
        "df_2 =pd.read_csv(\"/content/continent.csv\")\n",
        "df_3 = pd.read_csv('/content/type_death_edited.csv')\n"
      ],
      "metadata": {
        "id": "9QDddE3i9GJL"
      },
      "execution_count": 7,
      "outputs": []
    },
    {
      "cell_type": "code",
      "source": [
        "print(\"\\nAge:\")\n",
        "print(df_1.head(10))"
      ],
      "metadata": {
        "colab": {
          "base_uri": "https://localhost:8080/"
        },
        "id": "1fY3LLWdKnPU",
        "outputId": "574af5fe-1d48-42b2-9e07-edd71bd661e0"
      },
      "execution_count": 20,
      "outputs": [
        {
          "output_type": "stream",
          "name": "stdout",
          "text": [
            "\n",
            "Age:\n",
            "        Entity  Year   0-4 Years  5-14 Years  15-49 Years    70+ Years  \\\n",
            "0  Afghanistan  2000  431.431380  298.717520  2664.675562  3467.836503   \n",
            "1  Afghanistan  2005  570.298566  607.532041  3574.085436  3716.360311   \n",
            "2  Afghanistan  2010  454.028063  586.593832  4736.447964  3900.879913   \n",
            "3  Afghanistan  2015  481.289410  620.663757  5749.126878  4091.136811   \n",
            "4  Afghanistan  2017  511.048773  649.204879  5981.327823  4172.575864   \n",
            "5      Algeria  2000  206.646576  580.993911  2874.908422  4649.551008   \n",
            "6      Algeria  2005  200.069536  451.595874  3277.444378  5771.431443   \n",
            "7      Algeria  2010  206.485388  410.166374  3771.157611  7093.725188   \n",
            "8      Algeria  2015  178.957781  389.141158  4003.923699  7969.060154   \n",
            "9      Algeria  2017  162.465390  370.944761  4054.261742  8316.972246   \n",
            "\n",
            "   50-69 Years  \n",
            "0  5742.719807  \n",
            "1  5569.999390  \n",
            "2  4967.798862  \n",
            "3  4960.120776  \n",
            "4  5356.300571  \n",
            "5  4571.649106  \n",
            "6  5702.268530  \n",
            "7  6760.180607  \n",
            "8  7973.737239  \n",
            "9  8751.438951  \n"
          ]
        }
      ]
    },
    {
      "cell_type": "code",
      "source": [
        "Draw some preprocessing steps for df_1\n"
      ],
      "metadata": {
        "id": "gzGlX9XSKrlZ"
      },
      "execution_count": null,
      "outputs": []
    },
    {
      "cell_type": "code",
      "source": [
        "\n",
        "\n",
        "# Preprocessing steps for df_1\n",
        "\n",
        "# 1. Check for missing values\n",
        "df_1.isnull().sum()\n",
        "\n",
        "# 2. Check for duplicate rows\n",
        "df_1.duplicated().sum()\n",
        "\n",
        "# 3. Change column names\n",
        "df_1.columns = ['Entity', 'Year', '0-4', '5-14', '15-49', '70+', '50-69']\n",
        "\n",
        "# 4. Change data types\n",
        "df_1['Year'] = df_1['Year'].astype('int64')\n",
        "df_1['0-4'] = df_1['0-4'].astype('int64')\n",
        "df_1['5-14'] = df_1['5-14'].astype('int64')\n",
        "df_1['15-49'] = df_1['15-49'].astype('int64')\n",
        "df_1['70+'] = df_1['70+'].astype('int64')\n",
        "df_1['50-69'] = df_1['50-69'].astype('int64')\n",
        "\n",
        "# 5. Print the first 10 rows of the preprocessed df_1\n",
        "print(\"\\nPreprocessed df_1:\")\n",
        "print(df_1.head(10))\n"
      ],
      "metadata": {
        "colab": {
          "base_uri": "https://localhost:8080/"
        },
        "id": "_tGxU2PDKvdg",
        "outputId": "1ebaa77d-e518-4434-9c50-83fd08ba66fe"
      },
      "execution_count": 21,
      "outputs": [
        {
          "output_type": "stream",
          "name": "stdout",
          "text": [
            "\n",
            "Preprocessed df_1:\n",
            "        Entity  Year  0-4  5-14  15-49   70+  50-69\n",
            "0  Afghanistan  2000  431   298   2664  3467   5742\n",
            "1  Afghanistan  2005  570   607   3574  3716   5569\n",
            "2  Afghanistan  2010  454   586   4736  3900   4967\n",
            "3  Afghanistan  2015  481   620   5749  4091   4960\n",
            "4  Afghanistan  2017  511   649   5981  4172   5356\n",
            "5      Algeria  2000  206   580   2874  4649   4571\n",
            "6      Algeria  2005  200   451   3277  5771   5702\n",
            "7      Algeria  2010  206   410   3771  7093   6760\n",
            "8      Algeria  2015  178   389   4003  7969   7973\n",
            "9      Algeria  2017  162   370   4054  8316   8751\n"
          ]
        }
      ]
    },
    {
      "cell_type": "code",
      "source": [
        "print(\"\\ncontinent:\")\n",
        "print(df_2.head(10))"
      ],
      "metadata": {
        "colab": {
          "base_uri": "https://localhost:8080/"
        },
        "id": "ZnyXjl05Lge8",
        "outputId": "1c288781-eaa6-4c94-f041-04d728366249"
      },
      "execution_count": 22,
      "outputs": [
        {
          "output_type": "stream",
          "name": "stdout",
          "text": [
            "\n",
            "continent:\n",
            "        Country continent\n",
            "0        Canada    Africa\n",
            "1       Algeria    Africa\n",
            "2        Angola    Africa\n",
            "3         Benin    Africa\n",
            "4      Botswana    Africa\n",
            "5  Burkina Faso    Africa\n",
            "6       Burundi    Africa\n",
            "7      Cameroon    Africa\n",
            "8          Chad    Africa\n",
            "9       Comoros    Africa\n"
          ]
        }
      ]
    },
    {
      "cell_type": "code",
      "source": [
        "\n",
        "\n",
        "# Preprocessing steps for df_2\n",
        "\n",
        "# 1. Check for missing values\n",
        "df_2.isnull().sum()\n",
        "\n",
        "# 2. Check for duplicate rows\n",
        "df_2.duplicated().sum()\n",
        "\n",
        "# 3. Change column names\n",
        "df_2.columns = ['Country', 'continent']\n",
        "\n",
        "# 4. Change data types\n",
        "df_2['continent'] = df_2['continent'].astype('category')\n",
        "\n",
        "# 5. Print the first 10 rows of the preprocessed df_2\n",
        "print(\"\\nPreprocessed df_2:\")\n",
        "print(df_2.head(10))\n"
      ],
      "metadata": {
        "colab": {
          "base_uri": "https://localhost:8080/"
        },
        "id": "iHFwpvhJLnA4",
        "outputId": "f9ac096d-d096-4bd4-8ccb-2817d045ab3a"
      },
      "execution_count": 25,
      "outputs": [
        {
          "output_type": "stream",
          "name": "stdout",
          "text": [
            "\n",
            "Preprocessed df_2:\n",
            "        Country continent\n",
            "0        Canada    Africa\n",
            "1       Algeria    Africa\n",
            "2        Angola    Africa\n",
            "3         Benin    Africa\n",
            "4      Botswana    Africa\n",
            "5  Burkina Faso    Africa\n",
            "6       Burundi    Africa\n",
            "7      Cameroon    Africa\n",
            "8          Chad    Africa\n",
            "9       Comoros    Africa\n"
          ]
        }
      ]
    },
    {
      "cell_type": "code",
      "source": [
        "print(\"\\nType_death_edited:\")\n",
        "print(df_3.head(10))"
      ],
      "metadata": {
        "colab": {
          "base_uri": "https://localhost:8080/"
        },
        "id": "rDAYSIZ9-kVD",
        "outputId": "8eb6061c-1027-4ce9-a6a4-f1068f5b1ea4"
      },
      "execution_count": 8,
      "outputs": [
        {
          "output_type": "stream",
          "name": "stdout",
          "text": [
            "\n",
            "Type_death_edited:\n",
            "        Entity        Year       Liver       Breast      Stomach        Colon  \\\n",
            "0  Afghanistan  2000-02-11  520.151550   699.287300  3279.165475   877.743536   \n",
            "1  Afghanistan  2005-05-15  537.522807   823.753698  3478.610787   972.576772   \n",
            "2  Afghanistan  2010-10-13  552.162610   991.760186  3443.931112  1058.201622   \n",
            "3  Afghanistan  2015-06-08  591.062876  1203.319424  3504.978045  1179.493507   \n",
            "4  Afghanistan  2017-07-07  612.903603  1295.551117  3613.893258  1248.740056   \n",
            "5      Algeria  2000-02-11  332.251642  1088.725110  1023.295922  1041.632283   \n",
            "6      Algeria  2005-05-15  427.460625  1475.358718  1136.993579  1295.763289   \n",
            "7      Algeria  2010-10-13  530.556321  1834.332473  1272.475822  1547.486083   \n",
            "8      Algeria  2015-06-08  634.832100  2099.421134  1376.161431  1789.867064   \n",
            "9      Algeria  2017-07-07  676.888232  2233.244607  1428.283211  1914.941606   \n",
            "\n",
            "   Brain and nervous system     Leukemia  \n",
            "0                653.620084  1143.061398  \n",
            "1                816.578966  1495.370696  \n",
            "2                817.041138  1548.931410  \n",
            "3                907.179468  1729.618747  \n",
            "4                961.102864  1827.926735  \n",
            "5                444.320874   902.386139  \n",
            "6                487.860754   970.764513  \n",
            "7                544.657032  1107.755687  \n",
            "8                610.631310  1157.615746  \n",
            "9                632.689146  1185.828623  \n"
          ]
        }
      ]
    },
    {
      "cell_type": "code",
      "source": [
        "print(\"\\nContinent:\")\n",
        "print(df_2.head(10))"
      ],
      "metadata": {
        "colab": {
          "base_uri": "https://localhost:8080/"
        },
        "id": "68hngFpNJA8U",
        "outputId": "e298ab0c-da16-42f7-c128-29f00a61d233"
      },
      "execution_count": 9,
      "outputs": [
        {
          "output_type": "stream",
          "name": "stdout",
          "text": [
            "\n",
            "Continent:\n",
            "        Country continent\n",
            "0        Canada    Africa\n",
            "1       Algeria    Africa\n",
            "2        Angola    Africa\n",
            "3         Benin    Africa\n",
            "4      Botswana    Africa\n",
            "5  Burkina Faso    Africa\n",
            "6       Burundi    Africa\n",
            "7      Cameroon    Africa\n",
            "8          Chad    Africa\n",
            "9       Comoros    Africa\n"
          ]
        }
      ]
    },
    {
      "cell_type": "code",
      "source": [
        "\n",
        "\n",
        "# Check for duplicate values\n",
        "df_1.duplicated().sum()\n",
        "df_2.duplicated().sum()\n",
        "df_3.duplicated().sum()\n",
        "\n",
        "\n"
      ],
      "metadata": {
        "colab": {
          "base_uri": "https://localhost:8080/"
        },
        "id": "-9IIc4u8JKOd",
        "outputId": "c7d0dd76-3177-4374-99a3-9ebb51e0bf24"
      },
      "execution_count": 16,
      "outputs": [
        {
          "output_type": "execute_result",
          "data": {
            "text/plain": [
              "0"
            ]
          },
          "metadata": {},
          "execution_count": 16
        }
      ]
    },
    {
      "cell_type": "code",
      "source": [
        "# Check for data types\n",
        "df_1.dtypes\n",
        "df_2.dtypes\n",
        "df_3.dtypes"
      ],
      "metadata": {
        "colab": {
          "base_uri": "https://localhost:8080/"
        },
        "id": "-Mymv5-iJrpc",
        "outputId": "84670500-64af-4794-ea63-2e1966375e3f"
      },
      "execution_count": 14,
      "outputs": [
        {
          "output_type": "execute_result",
          "data": {
            "text/plain": [
              "Entity                       object\n",
              "Year                         object\n",
              "Liver                       float64\n",
              "Breast                      float64\n",
              "Stomach                     float64\n",
              "Colon                       float64\n",
              "Brain and nervous system    float64\n",
              "Leukemia                    float64\n",
              "dtype: object"
            ]
          },
          "metadata": {},
          "execution_count": 14
        }
      ]
    },
    {
      "cell_type": "code",
      "source": [
        "\n",
        "# Change data types\n",
        "df_2['continent'] = df_2['continent'].astype('category')\n",
        "print(df_2)"
      ],
      "metadata": {
        "colab": {
          "base_uri": "https://localhost:8080/"
        },
        "id": "bvI_Y3u6JcbV",
        "outputId": "84fd1382-9aaf-491d-e744-359716769676"
      },
      "execution_count": 12,
      "outputs": [
        {
          "output_type": "stream",
          "name": "stdout",
          "text": [
            "              Country continent\n",
            "0              Canada    Africa\n",
            "1             Algeria    Africa\n",
            "2              Angola    Africa\n",
            "3               Benin    Africa\n",
            "4            Botswana    Africa\n",
            "..                ...       ...\n",
            "103         Australia   Oceania\n",
            "104              Fiji   Oceania\n",
            "105       New Zealand   Oceania\n",
            "106          Kiribati   Oceania\n",
            "107  Marshall Islands   Oceania\n",
            "\n",
            "[108 rows x 2 columns]\n"
          ]
        }
      ]
    },
    {
      "cell_type": "code",
      "source": [
        "# Draw outliers from the dataset\n",
        "\n",
        "import seaborn as sns\n",
        "\n",
        "sns.boxplot(x = df_3['Stomach'])\n"
      ],
      "metadata": {
        "colab": {
          "base_uri": "https://localhost:8080/",
          "height": 466
        },
        "id": "YDp9OCyo-qwU",
        "outputId": "5b4d37d6-f250-4325-b491-9c754ec8f063"
      },
      "execution_count": 3,
      "outputs": [
        {
          "output_type": "execute_result",
          "data": {
            "text/plain": [
              "<Axes: xlabel='Stomach'>"
            ]
          },
          "metadata": {},
          "execution_count": 3
        },
        {
          "output_type": "display_data",
          "data": {
            "text/plain": [
              "<Figure size 640x480 with 1 Axes>"
            ],
            "image/png": "[encoded data removed]"
          },
          "metadata": {}
        }
      ]
    },
    {
      "cell_type": "code",
      "source": [
        "# Replacing outliers with mean\n",
        "df_3['Breast'] = df_3['Breast'].replace([0], df_3['Breast'].mean())\n",
        "\n",
        "# Print the updated DataFrame\n",
        "print(\"\\nAfter replacing outliers:\")\n",
        "print(df_3.head(10))\n"
      ],
      "metadata": {
        "colab": {
          "base_uri": "https://localhost:8080/"
        },
        "id": "GHIoz6UpERD7",
        "outputId": "ec283c7c-ee50-43c2-d902-4ff92febb7b7"
      },
      "execution_count": null,
      "outputs": [
        {
          "output_type": "stream",
          "name": "stdout",
          "text": [
            "\n",
            "After replacing outliers:\n",
            "        Entity        Year       Liver       Breast      Stomach        Colon  \\\n",
            "0  Afghanistan  2000-02-11  520.151550   699.287300  3279.165475   877.743536   \n",
            "1  Afghanistan  2005-05-15  537.522807   823.753698  3478.610787   972.576772   \n",
            "2  Afghanistan  2010-10-13  552.162610   991.760186  3443.931112  1058.201622   \n",
            "3  Afghanistan  2015-06-08  591.062876  1203.319424  3504.978045  1179.493507   \n",
            "4  Afghanistan  2017-07-07  612.903603  1295.551117  3613.893258  1248.740056   \n",
            "5      Algeria  2000-02-11  332.251642  1088.725110  1023.295922  1041.632283   \n",
            "6      Algeria  2005-05-15  427.460625  1475.358718  1136.993579  1295.763289   \n",
            "7      Algeria  2010-10-13  530.556321  1834.332473  1272.475822  1547.486083   \n",
            "8      Algeria  2015-06-08  634.832100  2099.421134  1376.161431  1789.867064   \n",
            "9      Algeria  2017-07-07  676.888232  2233.244607  1428.283211  1914.941606   \n",
            "\n",
            "   Brain and nervous system     Leukemia  \n",
            "0                653.620084  1143.061398  \n",
            "1                816.578966  1495.370696  \n",
            "2                817.041138  1548.931410  \n",
            "3                907.179468  1729.618747  \n",
            "4                961.102864  1827.926735  \n",
            "5                444.320874   902.386139  \n",
            "6                487.860754   970.764513  \n",
            "7                544.657032  1107.755687  \n",
            "8                610.631310  1157.615746  \n",
            "9                632.689146  1185.828623  \n"
          ]
        }
      ]
    },
    {
      "cell_type": "code",
      "source": [
        "#Save the above data in a csv file\n",
        "\n",
        "df_3.to_csv('updated_type_death_edited.csv')\n"
      ],
      "metadata": {
        "id": "ybD65zvoEYHS"
      },
      "execution_count": null,
      "outputs": []
    },
    {
      "cell_type": "code",
      "source": [
        "# Draw outliers from the dataset\n",
        "\n",
        "import seaborn as sns\n",
        "\n",
        "sns.boxplot(x = df_3['Leukemia'])\n"
      ],
      "metadata": {
        "colab": {
          "base_uri": "https://localhost:8080/",
          "height": 466
        },
        "id": "H8j3-SqwEmKq",
        "outputId": "9244e569-5d23-4913-8b79-415ceafb8870"
      },
      "execution_count": null,
      "outputs": [
        {
          "output_type": "execute_result",
          "data": {
            "text/plain": [
              "<Axes: xlabel='Leukemia'>"
            ]
          },
          "metadata": {},
          "execution_count": 42
        },
        {
          "output_type": "display_data",
          "data": {
            "text/plain": [
              "<Figure size 640x480 with 1 Axes>"
            ],
            "image/png": "[encoded data removed]"
          },
          "metadata": {}
        }
      ]
    },
    {
      "cell_type": "code",
      "source": [
        "# Draw outliers from the dataset\n",
        "\n",
        "import seaborn as sns\n",
        "\n",
        "sns.boxplot(x = df_3['Liver'])\n"
      ],
      "metadata": {
        "id": "CEFClKBAEG-u",
        "colab": {
          "base_uri": "https://localhost:8080/",
          "height": 466
        },
        "outputId": "4272da5a-e002-44a7-8801-b5865b1b6b62"
      },
      "execution_count": 4,
      "outputs": [
        {
          "output_type": "execute_result",
          "data": {
            "text/plain": [
              "<Axes: xlabel='Liver'>"
            ]
          },
          "metadata": {},
          "execution_count": 4
        },
        {
          "output_type": "display_data",
          "data": {
            "text/plain": [
              "<Figure size 640x480 with 1 Axes>"
            ],
            "image/png": "[encoded data removed]"
          },
          "metadata": {}
        }
      ]
    },
    {
      "cell_type": "code",
      "source": [
        "\n",
        "\n",
        "# 3. Check for outliers and handle them\n",
        "print(\"\\nChecking for outliers:\")\n",
        "print(df_1.describe())\n",
        "print(df_2.describe())\n",
        "print(df_3.describe())\n",
        "\n"
      ],
      "metadata": {
        "colab": {
          "base_uri": "https://localhost:8080/"
        },
        "id": "d3s76Dvs-0XC",
        "outputId": "0ef8ffa0-f753-4787-d69a-d4a14d16aead"
      },
      "execution_count": null,
      "outputs": [
        {
          "output_type": "stream",
          "name": "stdout",
          "text": [
            "\n",
            "Checking for outliers:\n",
            "             Year     0-4 Years    5-14 Years    15-49 Years     70+ Years  \\\n",
            "count   540.00000    540.000000    540.000000     540.000000  5.400000e+02   \n",
            "mean   2009.40000    400.825847    525.993119    7568.795012  2.570327e+04   \n",
            "std       6.28595   1161.044901   1729.185921   30440.801849  9.611533e+04   \n",
            "min    2000.00000      0.292137      0.543382      11.473410  7.783328e+00   \n",
            "25%    2005.00000     14.421515     25.644653     625.733359  1.598281e+03   \n",
            "50%    2010.00000     63.463599    100.993954    1627.606031  3.988756e+03   \n",
            "75%    2015.00000    273.414320    279.170752    3714.101102  1.513382e+04   \n",
            "max    2017.00000  12348.431641  21021.700983  354425.644678  1.130670e+06   \n",
            "\n",
            "        50-69 Years  \n",
            "count  5.400000e+02  \n",
            "mean   2.329606e+04  \n",
            "std    9.919199e+04  \n",
            "min    1.322805e+01  \n",
            "25%    1.832539e+03  \n",
            "50%    4.248519e+03  \n",
            "75%    1.038580e+04  \n",
            "max    1.207723e+06  \n",
            "       Country continent\n",
            "count      108       108\n",
            "unique     108         6\n",
            "top     Canada    Africa\n",
            "freq         1        32\n",
            "               Liver        Breast        Stomach          Colon  \\\n",
            "count     540.000000    540.000000     540.000000     540.000000   \n",
            "mean     5418.084971   3487.786097    6198.957423    4980.658787   \n",
            "std     34894.004634   9412.698982   33186.320881   16003.595011   \n",
            "min         3.092386      3.077184       3.615983       2.553489   \n",
            "25%       207.880349    323.282741     339.117343     337.211515   \n",
            "50%       588.311567    797.743475     760.673667     908.207313   \n",
            "75%      1560.577079   2335.621114    2365.020086    3153.195082   \n",
            "max    418158.634215  87564.085890  355379.160775  187078.081288   \n",
            "\n",
            "       Brain and nervous system      Leukemia  \n",
            "count                540.000000    540.000000  \n",
            "mean                1495.358339   2229.902330  \n",
            "std                 5398.291100   6745.945752  \n",
            "min                    0.653077      1.893629  \n",
            "25%                  106.589522    203.207034  \n",
            "50%                  315.917342    494.409078  \n",
            "75%                  881.437471   1363.548300  \n",
            "max                60696.057542  66094.627559  \n"
          ]
        }
      ]
    },
    {
      "cell_type": "code",
      "source": [],
      "metadata": {
        "id": "lwD2BggxIZAg"
      },
      "execution_count": null,
      "outputs": []
    }
  ]
}